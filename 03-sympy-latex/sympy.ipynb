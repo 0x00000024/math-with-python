{
 "cells": [
  {
   "cell_type": "markdown",
   "source": [
    "### Symbolic vs. numerical math"
   ],
   "metadata": {
    "collapsed": false
   }
  },
  {
   "cell_type": "code",
   "execution_count": 1,
   "outputs": [],
   "source": [
    "import sympy as sym\n",
    "from IPython.display import display, Math"
   ],
   "metadata": {
    "collapsed": false,
    "pycharm": {
     "name": "#%%\n"
    }
   }
  },
  {
   "cell_type": "code",
   "execution_count": 2,
   "outputs": [
    {
     "data": {
      "text/plain": "x",
      "text/latex": "$\\displaystyle x$"
     },
     "execution_count": 2,
     "metadata": {},
     "output_type": "execute_result"
    }
   ],
   "source": [
    "# create symbolic variables\n",
    "x, y, z = sym.symbols('x, y, z')\n",
    "\n",
    "x"
   ],
   "metadata": {
    "collapsed": false,
    "pycharm": {
     "name": "#%%\n"
    }
   }
  },
  {
   "cell_type": "code",
   "execution_count": 3,
   "outputs": [
    {
     "data": {
      "text/plain": "x + 4",
      "text/latex": "$\\displaystyle x + 4$"
     },
     "execution_count": 3,
     "metadata": {},
     "output_type": "execute_result"
    }
   ],
   "source": [
    "# x doesn't have a value; it's just a symbol\n",
    "x + 4"
   ],
   "metadata": {
    "collapsed": false,
    "pycharm": {
     "name": "#%%\n"
    }
   }
  },
  {
   "cell_type": "code",
   "execution_count": 4,
   "outputs": [
    {
     "data": {
      "text/plain": "x + 4",
      "image/png": "[encoded data removed]",
      "text/latex": "$\\displaystyle x + 4$"
     },
     "execution_count": 4,
     "metadata": {},
     "output_type": "execute_result"
    }
   ],
   "source": [
    "# for \"fancy\" printing (note: you need to run this line only once)\n",
    "sym.init_printing()\n",
    "x + 4"
   ],
   "metadata": {
    "collapsed": false,
    "pycharm": {
     "name": "#%%\n"
    }
   }
  },
  {
   "cell_type": "code",
   "execution_count": 5,
   "outputs": [
    {
     "data": {
      "text/plain": " y\nx ",
      "image/png": "[encoded data removed]",
      "text/latex": "$\\displaystyle x^{y}$"
     },
     "metadata": {},
     "output_type": "display_data"
    },
    {
     "data": {
      "text/plain": "y\n─\nz",
      "image/png": "[encoded data removed]",
      "text/latex": "$\\displaystyle \\frac{y}{z}$"
     },
     "metadata": {},
     "output_type": "display_data"
    }
   ],
   "source": [
    "# more fun...\n",
    "display(x**y)\n",
    "display(y/z)"
   ],
   "metadata": {
    "collapsed": false,
    "pycharm": {
     "name": "#%%\n"
    }
   }
  },
  {
   "cell_type": "code",
   "execution_count": 6,
   "outputs": [
    {
     "data": {
      "text/plain": "√2",
      "image/png": "[encoded data removed]",
      "text/latex": "$\\displaystyle \\sqrt{2}$"
     },
     "metadata": {},
     "output_type": "display_data"
    },
    {
     "data": {
      "text/plain": "1.4142135623730951",
      "image/png": "[encoded data removed]",
      "text/latex": "$\\displaystyle 1.4142135623730951$"
     },
     "metadata": {},
     "output_type": "display_data"
    }
   ],
   "source": [
    "# let's compare with numpy\n",
    "import numpy as np\n",
    "\n",
    "display(sym.sqrt(2)) # square root in symbolic math\n",
    "display(np.sqrt(2)) # square root in numeric/precision math"
   ],
   "metadata": {
    "collapsed": false,
    "pycharm": {
     "name": "#%%\n"
    }
   }
  },
  {
   "cell_type": "markdown",
   "source": [
    "### Exercises"
   ],
   "metadata": {
    "collapsed": false
   }
  },
  {
   "cell_type": "code",
   "execution_count": 7,
   "outputs": [
    {
     "data": {
      "text/plain": " 2  \nx ⋅y",
      "image/png": "[encoded data removed]",
      "text/latex": "$\\displaystyle x^{2} y$"
     },
     "metadata": {},
     "output_type": "display_data"
    },
    {
     "data": {
      "text/plain": "2⋅x",
      "image/png": "[encoded data removed]",
      "text/latex": "$\\displaystyle 2 x$"
     },
     "metadata": {},
     "output_type": "display_data"
    },
    {
     "data": {
      "text/plain": "x",
      "image/png": "[encoded data removed]",
      "text/latex": "$\\displaystyle x$"
     },
     "metadata": {},
     "output_type": "display_data"
    }
   ],
   "source": [
    "# 1)\n",
    "display(y*x**2)\n",
    "\n",
    "# 2) automatically simplify expressions\n",
    "display(sym.sqrt(4)*x)\n",
    "\n",
    "# 3)\n",
    "display(sym.sqrt(x)*sym.sqrt(x))"
   ],
   "metadata": {
    "collapsed": false,
    "pycharm": {
     "name": "#%%\n"
    }
   }
  }
 ],
 "metadata": {
  "kernelspec": {
   "display_name": "Python 3",
   "language": "python",
   "name": "python3"
  },
  "language_info": {
   "codemirror_mode": {
    "name": "ipython",
    "version": 3
   },
   "file_extension": ".py",
   "mimetype": "text/x-python",
   "name": "python",
   "nbconvert_exporter": "python",
   "pygments_lexer": "ipython3",
   "version": "3.7.4"
  }
 },
 "nbformat": 4,
 "nbformat_minor": 2
}